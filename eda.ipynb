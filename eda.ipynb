{
 "cells": [
  {
   "attachments": {},
   "cell_type": "markdown",
   "metadata": {},
   "source": [
    "### Import packages"
   ]
  },
  {
   "cell_type": "code",
   "execution_count": 3,
   "metadata": {},
   "outputs": [],
   "source": [
    "import pandas as pd"
   ]
  },
  {
   "attachments": {},
   "cell_type": "markdown",
   "metadata": {},
   "source": [
    "### Read in dataset into dataframe\n",
    "Just need to add the dataset into the working directory"
   ]
  },
  {
   "cell_type": "code",
   "execution_count": 4,
   "metadata": {},
   "outputs": [],
   "source": [
    "df = pd.read_csv(\"Alzheimer_s_Disease_and_Healthy_Aging_Data_20240418.csv\")"
   ]
  },
  {
   "cell_type": "code",
   "execution_count": 10,
   "metadata": {},
   "outputs": [
    {
     "name": "stdout",
     "output_type": "stream",
     "text": [
      "Number of unique questions: 39\n",
      "['Percentage of older adults who are experiencing frequent mental distress'\n",
      " 'Percentage of older adults with a lifetime diagnosis of depression'\n",
      " 'Percentage of older adults ever told they have arthritis'\n",
      " 'Mean number of days with activity limitations in the past month'\n",
      " 'Physically unhealthy days (mean number of days in past month)'\n",
      " 'Percentage of older adults who reported influenza vaccine within the past year'\n",
      " 'Fair or poor health among older adults with doctor-diagnosed arthritis'\n",
      " 'Percentage of older adults getting sufficient sleep (>6 hours)'\n",
      " 'Percentage of older adults who are currently obese, with a body mass index (BMI) of 30 or more'\n",
      " 'Percentage of older adults who report having a disability (includes limitations related to sensory or mobility impairments or a physical, mental, or emotional condition)'\n",
      " 'Percentage of older adult women who have received a mammogram within the past 2 years'\n",
      " 'Percentage of at risk adults (have diabetes, asthma, cardiovascular disease or currently smoke) who ever had a pneumococcal vaccine'\n",
      " 'Percentage of older adult men who are up to date with select clinical preventive services'\n",
      " 'Percentage of older adult women who are up to date with select clinical preventive services'\n",
      " 'Percentage of older adults who report having lost 5 or fewer teeth due to decay or gum disease'\n",
      " 'Percentage of older adult women with an intact cervix who had a Pap test within the past 3 years'\n",
      " 'Percentage of older adults who have not had any leisure time physical activity in the past month'\n",
      " 'Percentage of older adults who reported subjective cognitive decline or memory loss that is happening more often or is getting worse in the preceding 12 months'\n",
      " 'Percentage of older adults who had either a home blood stool test within the past year or a sigmoidoscopy or colonoscopy within the past 10 years'\n",
      " 'Percentage of older adults without diabetes who reported a blood sugar or diabetes test within 3 years'\n",
      " 'Percentage of older adults with subjective cognitive decline or memory loss who reported talking with a health care professional about it'\n",
      " 'Percentage of older adults who have smoked at least 100 cigarettes in their entire life and still smoke every day or some days'\n",
      " 'Percentage of older adults who reported subjective cognitive decline or memory loss that interferes with their ability to engage in social activities or household chores'\n",
      " 'Percentage of older adults who reported binge drinking within the past 30 days'\n",
      " 'Percentage of older adults who reported that as a result of subjective cognitive decline or memory loss that they need assistance with day-to-day activities'\n",
      " 'Percentage of older adults who self-reported that their health is \"fair\" or \"poor\"'\n",
      " 'Percentage of older adults who self-reported that their health is \"good\", \"very good\", or \"excellent\"'\n",
      " 'Average of 20 or more hours of care per week provided to a friend or family member'\n",
      " 'Percentage of older adults who provided care for someone with dementia or other cognitive impairment within the past month'\n",
      " 'Percentage of older adults currently not providing care who expect to provide care for someone with health problems in the next two years'\n",
      " 'Percentage of older adults who provided care to a friend or family member for six months or more'\n",
      " 'Percentage of older adults who provided care for a friend or family member within the past month'\n",
      " 'Percentage of older adults who are eating 2 or more fruits daily'\n",
      " 'Percentage of older adults who have been told they have high blood pressure who report currently taking medication for their high blood pressure'\n",
      " 'Percentage of older adults who are eating 3 or more vegetables daily'\n",
      " 'Percentage of older adults who had a cholesterol screening within the past 5 years'\n",
      " 'Percentage of older adults who have ever been told by a health professional that they have high blood pressure'\n",
      " 'Severe joint pain due to arthritis among older adults with doctor-diagnosed arthritis'\n",
      " 'Percentage of older adults who have fallen and sustained an injury within last year']\n"
     ]
    }
   ],
   "source": [
    "unique_questions = df[\"Question\"].unique()\n",
    "print(\"Number of unique questions: %s\" % len(unique_questions))\n",
    "print(unique_questions)"
   ]
  }
 ],
 "metadata": {
  "kernelspec": {
   "display_name": "Python 3",
   "language": "python",
   "name": "python3"
  },
  "language_info": {
   "codemirror_mode": {
    "name": "ipython",
    "version": 3
   },
   "file_extension": ".py",
   "mimetype": "text/x-python",
   "name": "python",
   "nbconvert_exporter": "python",
   "pygments_lexer": "ipython3",
   "version": "3.9.9"
  },
  "orig_nbformat": 4
 },
 "nbformat": 4,
 "nbformat_minor": 2
}
