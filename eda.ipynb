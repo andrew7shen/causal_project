{
 "cells": [
  {
   "attachments": {},
   "cell_type": "markdown",
   "metadata": {},
   "source": [
    "### Import packages"
   ]
  },
  {
   "cell_type": "code",
   "execution_count": 2,
   "metadata": {},
   "outputs": [],
   "source": [
    "import pandas as pd"
   ]
  },
  {
   "attachments": {},
   "cell_type": "markdown",
   "metadata": {},
   "source": [
    "### Read in dataset into dataframe\n",
    "Just need to add the dataset into the working directory"
   ]
  },
  {
   "cell_type": "code",
   "execution_count": 3,
   "metadata": {},
   "outputs": [],
   "source": [
    "df = pd.read_csv(\"Alzheimer_s_Disease_and_Healthy_Aging_Data_20240418.csv\")"
   ]
  },
  {
   "cell_type": "code",
   "execution_count": 5,
   "metadata": {},
   "outputs": [
    {
     "name": "stdout",
     "output_type": "stream",
     "text": [
      "Number of keys: 31\n",
      "Index(['RowId', 'YearStart', 'YearEnd', 'LocationAbbr', 'LocationDesc',\n",
      "       'Datasource', 'Class', 'Topic', 'Question', 'Data_Value_Unit',\n",
      "       'DataValueTypeID', 'Data_Value_Type', 'Data_Value', 'Data_Value_Alt',\n",
      "       'Data_Value_Footnote_Symbol', 'Data_Value_Footnote',\n",
      "       'Low_Confidence_Limit', 'High_Confidence_Limit',\n",
      "       'StratificationCategory1', 'Stratification1', 'StratificationCategory2',\n",
      "       'Stratification2', 'Geolocation', 'ClassID', 'TopicID', 'QuestionID',\n",
      "       'LocationID', 'StratificationCategoryID1', 'StratificationID1',\n",
      "       'StratificationCategoryID2', 'StratificationID2'],\n",
      "      dtype='object')\n"
     ]
    }
   ],
   "source": [
    "df_keys = df.keys()\n",
    "print(\"Number of keys: %s\" % len(df_keys))\n",
    "print(df_keys)"
   ]
  },
  {
   "cell_type": "code",
   "execution_count": 7,
   "metadata": {},
   "outputs": [
    {
     "name": "stdout",
     "output_type": "stream",
     "text": [
      "Number of unique questions: 39\n",
      "Question\n",
      "Percentage of older adults who are experiencing frequent mental distress                                                                                                     11092\n",
      "Percentage of older adults who have not had any leisure time physical activity in the past month                                                                             11092\n",
      "Physically unhealthy days (mean number of days in past month)                                                                                                                11092\n",
      "Percentage of older adults who reported influenza vaccine within the past year                                                                                               11092\n",
      "Percentage of older adults who are currently obese, with a body mass index (BMI) of 30 or more                                                                               11092\n",
      "Percentage of older adults who have smoked at least 100 cigarettes in their entire life and still smoke every day or some days                                               11092\n",
      "Percentage of older adults with a lifetime diagnosis of depression                                                                                                           11092\n",
      "Percentage of older adults who self-reported that their health is \"good\", \"very good\", or \"excellent\"                                                                        11091\n",
      "Percentage of older adults who self-reported that their health is \"fair\" or \"poor\"                                                                                           11091\n",
      "Percentage of older adults who reported binge drinking within the past 30 days                                                                                               11091\n",
      "Percentage of at risk adults (have diabetes, asthma, cardiovascular disease or currently smoke) who ever had a pneumococcal vaccine                                          11051\n",
      "Mean number of days with activity limitations in the past month                                                                                                              11002\n",
      "Percentage of older adults who report having a disability (includes limitations related to sensory or mobility impairments or a physical, mental, or emotional condition)     9709\n",
      "Percentage of older adults ever told they have arthritis                                                                                                                      8303\n",
      "Fair or poor health among older adults with doctor-diagnosed arthritis                                                                                                        8214\n",
      "Percentage of older adults without diabetes who reported a blood sugar or diabetes test within 3 years                                                                        6148\n",
      "Percentage of older adults who reported subjective cognitive decline or memory loss that is happening more often or is getting worse in the preceding 12 months               5854\n",
      "Percentage of older adults who had either a home blood stool test within the past year or a sigmoidoscopy or colonoscopy within the past 10 years                             5581\n",
      "Percentage of older adults who report having lost 5 or fewer teeth due to decay or gum disease                                                                                5581\n",
      "Percentage of older adults getting sufficient sleep (>6 hours)                                                                                                                5580\n",
      "Percentage of older adults who had a cholesterol screening within the past 5 years                                                                                            5510\n",
      "Percentage of older adults who have ever been told by a health professional that they have high blood pressure                                                                5510\n",
      "Percentage of older adults who are eating 2 or more fruits daily                                                                                                              5506\n",
      "Percentage of older adults who are eating 3 or more vegetables daily                                                                                                          5504\n",
      "Percentage of older adults who have been told they have high blood pressure who report currently taking medication for their high blood pressure                              5484\n",
      "Percentage of older adults who reported that as a result of subjective cognitive decline or memory loss that they need assistance with day-to-day activities                  5444\n",
      "Percentage of older adults who reported subjective cognitive decline or memory loss that interferes with their ability to engage in social activities or household chores     5443\n",
      "Percentage of older adults with subjective cognitive decline or memory loss who reported talking with a health care professional about it                                     5441\n",
      "Severe joint pain due to arthritis among older adults with doctor-diagnosed arthritis                                                                                         5433\n",
      "Percentage of older adults who provided care for a friend or family member within the past month                                                                              5227\n",
      "Percentage of older adults currently not providing care who expect to provide care for someone with health problems in the next two years                                     5196\n",
      "Percentage of older adults who provided care to a friend or family member for six months or more                                                                              5030\n",
      "Percentage of older adults who provided care for someone with dementia or other cognitive impairment within the past month                                                    5026\n",
      "Average of 20 or more hours of care per week provided to a friend or family member                                                                                            5014\n",
      "Percentage of older adult women who are up to date with select clinical preventive services                                                                                   4330\n",
      "Percentage of older adult men who are up to date with select clinical preventive services                                                                                     4324\n",
      "Percentage of older adult women who have received a mammogram within the past 2 years                                                                                         4324\n",
      "Percentage of older adult women with an intact cervix who had a Pap test within the past 3 years                                                                              4283\n",
      "Percentage of older adults who have fallen and sustained an injury within last year                                                                                           4173\n",
      "Name: count, dtype: int64\n"
     ]
    }
   ],
   "source": [
    "unique_questions = df[\"Question\"].unique()\n",
    "print(\"Number of unique questions: %s\" % len(unique_questions))\n",
    "print(df[\"Question\"].value_counts())"
   ]
  },
  {
   "cell_type": "code",
   "execution_count": 8,
   "metadata": {},
   "outputs": [
    {
     "name": "stdout",
     "output_type": "stream",
     "text": [
      "Number of unique StratificationCategory1: 1\n",
      "Number of unique Age Groups: 3\n",
      "Stratification1\n",
      "Overall              95233\n",
      "50-64 years          94741\n",
      "65 years or older    94168\n",
      "Name: count, dtype: int64\n"
     ]
    }
   ],
   "source": [
    "# StratificationCategory1 is just \"Age Group\"\n",
    "unique_stratcat1 = df[\"StratificationCategory1\"].unique()\n",
    "print(\"Number of unique StratificationCategory1: %s\" % len(unique_stratcat1))\n",
    "\n",
    "unique_strat1 = df[\"Stratification1\"].unique()\n",
    "print(\"Number of unique Age Groups: %s\" % len(unique_strat1))\n",
    "print(df[\"Stratification1\"].value_counts())\n"
   ]
  },
  {
   "cell_type": "code",
   "execution_count": 12,
   "metadata": {},
   "outputs": [
    {
     "name": "stdout",
     "output_type": "stream",
     "text": [
      "Number of unique StratificationCategory2: 3\n",
      "StratificationCategory2\n",
      "Race/Ethnicity    178431\n",
      "Gender             68838\n",
      "Name: count, dtype: int64\n",
      "\n",
      "Number of unique Age Groups: 8\n",
      "Stratification2\n",
      "White, non-Hispanic         36450\n",
      "Hispanic                    36326\n",
      "Black, non-Hispanic         35770\n",
      "Native Am/Alaskan Native    35021\n",
      "Asian/Pacific Islander      34864\n",
      "Female                      34596\n",
      "Male                        34242\n",
      "Name: count, dtype: int64\n"
     ]
    }
   ],
   "source": [
    "# StratificationCategory2 is either \"Race/Ethnicity\" or \"Gender\"\n",
    "unique_stratcat2 = df[\"StratificationCategory2\"].unique()\n",
    "print(\"Number of unique StratificationCategory2: %s\" % len(unique_stratcat2))\n",
    "print(df[\"StratificationCategory2\"].value_counts())\n",
    "print()\n",
    "\n",
    "unique_strat2 = df[\"Stratification2\"].unique()\n",
    "print(\"Number of unique Age Groups: %s\" % len(unique_strat2))\n",
    "print(df[\"Stratification2\"].value_counts())"
   ]
  }
 ],
 "metadata": {
  "kernelspec": {
   "display_name": "Python 3",
   "language": "python",
   "name": "python3"
  },
  "language_info": {
   "codemirror_mode": {
    "name": "ipython",
    "version": 3
   },
   "file_extension": ".py",
   "mimetype": "text/x-python",
   "name": "python",
   "nbconvert_exporter": "python",
   "pygments_lexer": "ipython3",
   "version": "3.9.9"
  },
  "orig_nbformat": 4
 },
 "nbformat": 4,
 "nbformat_minor": 2
}
